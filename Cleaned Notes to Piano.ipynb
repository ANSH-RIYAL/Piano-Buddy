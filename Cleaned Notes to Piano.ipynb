{
 "cells": [
  {
   "cell_type": "code",
   "execution_count": 1,
   "id": "34c28c7a",
   "metadata": {},
   "outputs": [],
   "source": [
    "import simpleaudio as sa\n",
    "import wave\n",
    "import time\n",
    "\n",
    "from os import path\n",
    "from pydub import AudioSegment\n",
    "\n",
    "import os\n",
    "\n",
    "import numpy as np"
   ]
  },
  {
   "cell_type": "code",
   "execution_count": 2,
   "id": "5466c6ad",
   "metadata": {},
   "outputs": [
    {
     "data": {
      "text/plain": [
       "{'F_1': <simpleaudio.shiny.WaveObject at 0x1074697e0>,\n",
       " 'D_2': <simpleaudio.shiny.WaveObject at 0x107469990>,\n",
       " 'F_2': <simpleaudio.shiny.WaveObject at 0x107469480>,\n",
       " 'D_1': <simpleaudio.shiny.WaveObject at 0x10744ae60>,\n",
       " 'B_2': <simpleaudio.shiny.WaveObject at 0x107469930>,\n",
       " 'B_1': <simpleaudio.shiny.WaveObject at 0x108392350>,\n",
       " 'G_2': <simpleaudio.shiny.WaveObject at 0x108391180>,\n",
       " 'E_1': <simpleaudio.shiny.WaveObject at 0x108392110>,\n",
       " 'F#_2': <simpleaudio.shiny.WaveObject at 0x1083923b0>,\n",
       " 'G_1': <simpleaudio.shiny.WaveObject at 0x1083925c0>,\n",
       " 'E_2': <simpleaudio.shiny.WaveObject at 0x108392620>,\n",
       " 'F#_1': <simpleaudio.shiny.WaveObject at 0x108392440>,\n",
       " 'A_2': <simpleaudio.shiny.WaveObject at 0x108392080>,\n",
       " 'D#_1': <simpleaudio.shiny.WaveObject at 0x108392e00>,\n",
       " 'C_1': <simpleaudio.shiny.WaveObject at 0x108392e60>,\n",
       " 'A_1': <simpleaudio.shiny.WaveObject at 0x1083922f0>,\n",
       " 'D#_2': <simpleaudio.shiny.WaveObject at 0x108392290>,\n",
       " 'C_2': <simpleaudio.shiny.WaveObject at 0x108392230>,\n",
       " 'A#_2': <simpleaudio.shiny.WaveObject at 0x1083921d0>,\n",
       " 'A#_1': <simpleaudio.shiny.WaveObject at 0x108392170>,\n",
       " 'C#_1': <simpleaudio.shiny.WaveObject at 0x108392dd0>,\n",
       " 'C#_2': <simpleaudio.shiny.WaveObject at 0x108392d70>,\n",
       " 'G#_1': <simpleaudio.shiny.WaveObject at 0x108391660>,\n",
       " 'G#_2': <simpleaudio.shiny.WaveObject at 0x108392920>}"
      ]
     },
     "execution_count": 2,
     "metadata": {},
     "output_type": "execute_result"
    }
   ],
   "source": [
    "notes_dir = './piano_keys/'\n",
    "note_paths = os.listdir(notes_dir)\n",
    "note_audio = {}\n",
    "for note_path in note_paths:\n",
    "    note = note_path.split('.')[0]\n",
    "    note_audio[note] = sa.WaveObject.from_wave_file(notes_dir + note_path)\n",
    "\n",
    "note_audio"
   ]
  },
  {
   "cell_type": "code",
   "execution_count": 3,
   "id": "d269ccad",
   "metadata": {},
   "outputs": [
    {
     "data": {
      "text/plain": [
       "25"
      ]
     },
     "execution_count": 3,
     "metadata": {},
     "output_type": "execute_result"
    }
   ],
   "source": [
    "hbd_isha = 'C_1 - C_1 - D_1 - C_1 - F_1 - E_2 - C_1 - C_1 - D_1 - C_1 - G_2 - F_2 - C_1 - C_1 - C_2 - A_2 - F_2 - E_1 - D_1 - A#_1 - A#_1 - A_1 - F_1 - G_1 - F_1'\n",
    "song_notes = hbd_isha.split(\" - \")\n",
    "len(song_notes)"
   ]
  },
  {
   "cell_type": "code",
   "execution_count": 4,
   "id": "79cdbf20",
   "metadata": {},
   "outputs": [],
   "source": [
    "tempo_pause = 0.6\n",
    "time_for_note = [tempo_pause for i in song_notes]\n",
    "\n",
    "down_factor = 2\n",
    "up_factor = 3\n",
    "\n",
    "# Happy Birthday to you\n",
    "time_for_note[0] /= down_factor\n",
    "time_for_note[1] /= down_factor\n",
    "time_for_note[5] *= up_factor\n",
    "\n",
    "# Happy Birthday to you\n",
    "time_for_note[6] /= down_factor\n",
    "time_for_note[7] /= down_factor\n",
    "time_for_note[11] *= up_factor\n",
    "\n",
    "# Happy Birthday dear...\n",
    "time_for_note[12] /= down_factor\n",
    "time_for_note[13] /= down_factor\n",
    "time_for_note[18] *= up_factor\n",
    "\n",
    "# Happy Birthday to... you...\n",
    "time_for_note[19] /= down_factor\n",
    "time_for_note[20] /= down_factor\n",
    "time_for_note[23] += 0.1\n",
    "time_for_note[24] *= up_factor"
   ]
  },
  {
   "cell_type": "code",
   "execution_count": 5,
   "id": "8c0aa071",
   "metadata": {},
   "outputs": [],
   "source": [
    "# Adjustments\n",
    "time_for_note[0] += 0.1 # 0.3 -> 0.4\n",
    "time_for_note[1] -= 0.1 # 0.3 -> 0.2\n",
    "\n",
    "time_for_note[6] += 0.1 # 0.3 -> 0.4\n",
    "time_for_note[7] -= 0.1 # 0.3 -> 0.2\n",
    "\n",
    "time_for_note[12] += 0.1 # 0.3 -> 0.4\n",
    "time_for_note[13] -= 0.1 # 0.3 -> 0.2\n",
    "\n",
    "time_for_note[19] += 0.1 # 0.3 -> 0.4\n",
    "time_for_note[20] -= 0.1 # 0.3 -> 0.2"
   ]
  },
  {
   "cell_type": "code",
   "execution_count": 6,
   "id": "82932616",
   "metadata": {},
   "outputs": [],
   "source": [
    "for ind,note in enumerate(song_notes):\n",
    "    audio = note_audio[note]\n",
    "#     audio.bytes_per_sample = 4\n",
    "    play_obj = audio.play()\n",
    "    time.sleep(time_for_note[ind])\n",
    "#     play_obj.wait_done()"
   ]
  },
  {
   "cell_type": "code",
   "execution_count": 7,
   "id": "85a32a24",
   "metadata": {},
   "outputs": [],
   "source": [
    "all_notes = list(note_audio.keys())\n",
    "# all_notes"
   ]
  },
  {
   "cell_type": "code",
   "execution_count": 8,
   "id": "c6cae6d6",
   "metadata": {},
   "outputs": [],
   "source": [
    "def playRandom(num_notes, valid_collection, time_for_note = False):\n",
    "    song_notes = np.random.choice(valid_collection, num_notes)\n",
    "    \n",
    "    # Time for notes controls tempo and pauses -> rhythm\n",
    "    if not time_for_note:\n",
    "        time_for_note = [0.4 for i in song_notes]\n",
    "    elif type(time_for_note) != list:\n",
    "        time_for_note = [time_for_note for i in song_notes]\n",
    "    \n",
    "    # Playing the notes\n",
    "    for ind,note in enumerate(song_notes):\n",
    "        audio = note_audio[note]\n",
    "        play_obj = audio.play()\n",
    "        time.sleep(time_for_note[ind])\n",
    "    return song_notes, time_for_note"
   ]
  },
  {
   "cell_type": "code",
   "execution_count": 9,
   "id": "8d5052a3",
   "metadata": {},
   "outputs": [],
   "source": [
    "valid_collection = []\n",
    "for note in all_notes:\n",
    "    # C major scale\n",
    "    if '#' not in note:\n",
    "        valid_collection.append(note)"
   ]
  },
  {
   "cell_type": "code",
   "execution_count": 10,
   "id": "6e557a60",
   "metadata": {},
   "outputs": [],
   "source": [
    "# sorted(valid_collection)"
   ]
  },
  {
   "cell_type": "code",
   "execution_count": 11,
   "id": "1841b476",
   "metadata": {},
   "outputs": [],
   "source": [
    "# For dabbling in C major scale\n",
    "num_notes = 60\n",
    "time_between_notes = 0.2\n",
    "song_notes, time_for_notes = playRandom(num_notes, valid_collection, time_between_notes)"
   ]
  },
  {
   "cell_type": "code",
   "execution_count": null,
   "id": "e80bad19",
   "metadata": {},
   "outputs": [],
   "source": []
  },
  {
   "cell_type": "code",
   "execution_count": 12,
   "id": "69bfba64",
   "metadata": {},
   "outputs": [
    {
     "data": {
      "text/plain": [
       "'C - E - G - B - C - E - G - B - G - B - D - F# - A - C - E - G - B - D - F# - A'"
      ]
     },
     "execution_count": 12,
     "metadata": {},
     "output_type": "execute_result"
    }
   ],
   "source": [
    "# Isha's composition\n",
    "\n",
    "song = ''\n",
    "\n",
    "song += 'C - E - G - B - '\n",
    "song += song\n",
    "\n",
    "song += 'G - B - D - F# - '\n",
    "\n",
    "song += 'A - C - E - G - '\n",
    "\n",
    "song += 'B - D - F# - A'\n",
    "\n",
    "song"
   ]
  },
  {
   "cell_type": "code",
   "execution_count": 13,
   "id": "c19db163",
   "metadata": {},
   "outputs": [],
   "source": [
    "song_notes = song.split(\" - \")\n",
    "for note_ind in range(len(song_notes)):\n",
    "    song_notes[note_ind] += \"_2\"\n",
    "\n",
    "# song_notes\n"
   ]
  },
  {
   "cell_type": "code",
   "execution_count": 14,
   "id": "40a9afe0",
   "metadata": {},
   "outputs": [],
   "source": [
    "tempo_pause = 0.25\n",
    "time_for_note = [tempo_pause for i in song_notes]\n",
    "\n",
    "pauses = [3,7,11,15]\n",
    "for i in pauses:\n",
    "    time_for_note[i] *= 1.5\n",
    "# time_for_note"
   ]
  },
  {
   "cell_type": "code",
   "execution_count": 15,
   "id": "025ecfa3",
   "metadata": {},
   "outputs": [],
   "source": [
    "for ind,note in enumerate(song_notes):\n",
    "    audio = note_audio[note]\n",
    "    play_obj = audio.play()\n",
    "    time.sleep(time_for_note[ind])\n"
   ]
  },
  {
   "cell_type": "code",
   "execution_count": null,
   "id": "64e8949e",
   "metadata": {},
   "outputs": [],
   "source": []
  }
 ],
 "metadata": {
  "kernelspec": {
   "display_name": "Python 3 (ipykernel)",
   "language": "python",
   "name": "python3"
  },
  "language_info": {
   "codemirror_mode": {
    "name": "ipython",
    "version": 3
   },
   "file_extension": ".py",
   "mimetype": "text/x-python",
   "name": "python",
   "nbconvert_exporter": "python",
   "pygments_lexer": "ipython3",
   "version": "3.10.7"
  }
 },
 "nbformat": 4,
 "nbformat_minor": 5
}
