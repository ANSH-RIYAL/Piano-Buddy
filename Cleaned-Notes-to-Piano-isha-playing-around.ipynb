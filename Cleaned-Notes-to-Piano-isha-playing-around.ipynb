{
 "cells": [
  {
   "cell_type": "code",
   "execution_count": 1,
   "metadata": {},
   "outputs": [
    {
     "name": "stdout",
     "output_type": "stream",
     "text": [
      "Requirement already satisfied: simpleaudio in /opt/anaconda3/lib/python3.7/site-packages (1.0.4)\n",
      "Note: you may need to restart the kernel to use updated packages.\n"
     ]
    }
   ],
   "source": [
    "pip install simpleaudio"
   ]
  },
  {
   "cell_type": "code",
   "execution_count": 3,
   "metadata": {},
   "outputs": [
    {
     "name": "stdout",
     "output_type": "stream",
     "text": [
      "Collecting pydub\n",
      "  Downloading pydub-0.25.1-py2.py3-none-any.whl (32 kB)\n",
      "Installing collected packages: pydub\n",
      "Successfully installed pydub-0.25.1\n",
      "Note: you may need to restart the kernel to use updated packages.\n"
     ]
    }
   ],
   "source": [
    "pip install pydub"
   ]
  },
  {
   "cell_type": "code",
   "execution_count": 1,
   "metadata": {},
   "outputs": [
    {
     "name": "stderr",
     "output_type": "stream",
     "text": [
      "/opt/anaconda3/lib/python3.7/site-packages/pydub/utils.py:170: RuntimeWarning: Couldn't find ffmpeg or avconv - defaulting to ffmpeg, but may not work\n",
      "  warn(\"Couldn't find ffmpeg or avconv - defaulting to ffmpeg, but may not work\", RuntimeWarning)\n"
     ]
    }
   ],
   "source": [
    "import simpleaudio as sa\n",
    "import wave\n",
    "import time\n",
    "\n",
    "from os import path\n",
    "from pydub import AudioSegment\n",
    "\n",
    "import os\n",
    "\n",
    "import numpy as np"
   ]
  },
  {
   "cell_type": "code",
   "execution_count": 24,
   "metadata": {},
   "outputs": [
    {
     "data": {
      "text/plain": [
       "{'F_1': <simpleaudio.shiny.WaveObject at 0x7fd3e98d6510>,\n",
       " 'D_2': <simpleaudio.shiny.WaveObject at 0x7fd3e98d69d0>,\n",
       " 'F_2': <simpleaudio.shiny.WaveObject at 0x7fd3e98d6590>,\n",
       " 'D_1': <simpleaudio.shiny.WaveObject at 0x7fd3e98d6e10>,\n",
       " 'B_2': <simpleaudio.shiny.WaveObject at 0x7fd3e98d6dd0>,\n",
       " 'B_1': <simpleaudio.shiny.WaveObject at 0x7fd3e98d6a50>,\n",
       " 'G_2': <simpleaudio.shiny.WaveObject at 0x7fd3e98d6350>,\n",
       " 'E_1': <simpleaudio.shiny.WaveObject at 0x7fd3e98d6490>,\n",
       " 'F#_2': <simpleaudio.shiny.WaveObject at 0x7fd3e98d6950>,\n",
       " 'G_1': <simpleaudio.shiny.WaveObject at 0x7fd3e98d6910>,\n",
       " 'E_2': <simpleaudio.shiny.WaveObject at 0x7fd3e98d6750>,\n",
       " 'F#_1': <simpleaudio.shiny.WaveObject at 0x7fd408323750>,\n",
       " 'A_2': <simpleaudio.shiny.WaveObject at 0x7fd408323850>,\n",
       " 'D#_1': <simpleaudio.shiny.WaveObject at 0x7fd408323550>,\n",
       " 'C_1': <simpleaudio.shiny.WaveObject at 0x7fd408323350>,\n",
       " 'A_1': <simpleaudio.shiny.WaveObject at 0x7fd4083235d0>,\n",
       " 'D#_2': <simpleaudio.shiny.WaveObject at 0x7fd408323ed0>,\n",
       " 'C_2': <simpleaudio.shiny.WaveObject at 0x7fd408318050>,\n",
       " 'A#_2': <simpleaudio.shiny.WaveObject at 0x7fd4083180d0>,\n",
       " 'A#_1': <simpleaudio.shiny.WaveObject at 0x7fd4083189d0>,\n",
       " 'C#_1': <simpleaudio.shiny.WaveObject at 0x7fd408318f90>,\n",
       " 'C#_2': <simpleaudio.shiny.WaveObject at 0x7fd408318910>,\n",
       " 'G#_1': <simpleaudio.shiny.WaveObject at 0x7fd408318a50>,\n",
       " 'G#_2': <simpleaudio.shiny.WaveObject at 0x7fd408318b10>}"
      ]
     },
     "execution_count": 24,
     "metadata": {},
     "output_type": "execute_result"
    }
   ],
   "source": [
    "notes_dir = './piano_keys/'\n",
    "note_paths = os.listdir(notes_dir)\n",
    "note_audio = {}\n",
    "for note_path in note_paths:\n",
    "    note = note_path.split('.')[0]\n",
    "    note_audio[note] = sa.WaveObject.from_wave_file(notes_dir + note_path)\n",
    "\n",
    "note_audio"
   ]
  },
  {
   "cell_type": "code",
   "execution_count": 18,
   "metadata": {},
   "outputs": [
    {
     "data": {
      "text/plain": [
       "25"
      ]
     },
     "execution_count": 18,
     "metadata": {},
     "output_type": "execute_result"
    }
   ],
   "source": [
    "hbd_isha = 'C_1 - C_1 - D_1 - C_1 - F_1 - E_2 - C_1 - C_1 - D_1 - C_1 - G_2 - F_2 - C_1 - C_1 - C_2 - A_2 - F_2 - E_1 - D_1 - A#_1 - A#_1 - A_1 - F_1 - G_1 - F_1'\n",
    "song_notes = hbd_isha.split(\" - \")\n",
    "len(song_notes)"
   ]
  },
  {
   "cell_type": "code",
   "execution_count": 19,
   "metadata": {},
   "outputs": [],
   "source": [
    "tempo_pause = 0.6\n",
    "time_for_note = [tempo_pause for i in song_notes]\n",
    "\n",
    "down_factor = 2\n",
    "up_factor = 3\n",
    "\n",
    "# Happy Birthday to you\n",
    "time_for_note[0] /= down_factor\n",
    "time_for_note[1] /= down_factor\n",
    "time_for_note[5] *= up_factor\n",
    "\n",
    "# Happy Birthday to you\n",
    "time_for_note[6] /= down_factor\n",
    "time_for_note[7] /= down_factor\n",
    "time_for_note[11] *= up_factor\n",
    "\n",
    "# Happy Birthday dear...\n",
    "time_for_note[12] /= down_factor\n",
    "time_for_note[13] /= down_factor\n",
    "time_for_note[18] *= up_factor\n",
    "\n",
    "# Happy Birthday to... you...\n",
    "time_for_note[19] /= down_factor\n",
    "time_for_note[20] /= down_factor\n",
    "time_for_note[23] += 0.1\n",
    "time_for_note[24] *= up_factor"
   ]
  },
  {
   "cell_type": "code",
   "execution_count": 20,
   "metadata": {},
   "outputs": [],
   "source": [
    "# Adjustments\n",
    "time_for_note[0] += 0.1 # 0.3 -> 0.4\n",
    "time_for_note[1] -= 0.1 # 0.3 -> 0.2\n",
    "\n",
    "time_for_note[6] += 0.1 # 0.3 -> 0.4\n",
    "time_for_note[7] -= 0.1 # 0.3 -> 0.2\n",
    "\n",
    "time_for_note[12] += 0.1 # 0.3 -> 0.4\n",
    "time_for_note[13] -= 0.1 # 0.3 -> 0.2\n",
    "\n",
    "time_for_note[19] += 0.1 # 0.3 -> 0.4\n",
    "time_for_note[20] -= 0.1 # 0.3 -> 0.2"
   ]
  },
  {
   "cell_type": "code",
   "execution_count": 21,
   "metadata": {},
   "outputs": [],
   "source": [
    "for ind,note in enumerate(song_notes):\n",
    "    audio = note_audio[note]\n",
    "#     audio.bytes_per_sample = 4\n",
    "    play_obj = audio.play()\n",
    "    time.sleep(time_for_note[ind])\n",
    "#     play_obj.wait_done()"
   ]
  },
  {
   "cell_type": "code",
   "execution_count": 7,
   "metadata": {},
   "outputs": [],
   "source": [
    "all_notes = list(note_audio.keys())\n",
    "# all_notes"
   ]
  },
  {
   "cell_type": "code",
   "execution_count": 8,
   "metadata": {},
   "outputs": [],
   "source": [
    "def playRandom(num_notes, valid_collection, time_for_note = False):\n",
    "    song_notes = np.random.choice(valid_collection, num_notes)\n",
    "    \n",
    "    # Time for notes controls tempo and pauses -> rhythm\n",
    "    if not time_for_note:\n",
    "        time_for_note = [0.4 for i in song_notes]\n",
    "    elif type(time_for_note) != list:\n",
    "        time_for_note = [time_for_note for i in song_notes]\n",
    "    \n",
    "    # Playing the notes\n",
    "    for ind,note in enumerate(song_notes):\n",
    "        audio = note_audio[note]\n",
    "        play_obj = audio.play()\n",
    "        time.sleep(time_for_note[ind])\n",
    "    return song_notes, time_for_note"
   ]
  },
  {
   "cell_type": "code",
   "execution_count": 9,
   "metadata": {},
   "outputs": [],
   "source": [
    "valid_collection = []\n",
    "for note in all_notes:\n",
    "    # C major scale\n",
    "    if '#' not in note:\n",
    "        valid_collection.append(note)"
   ]
  },
  {
   "cell_type": "code",
   "execution_count": 10,
   "metadata": {},
   "outputs": [],
   "source": [
    "# sorted(valid_collection)"
   ]
  },
  {
   "cell_type": "code",
   "execution_count": 11,
   "metadata": {},
   "outputs": [],
   "source": [
    "# For dabbling in C major scale\n",
    "num_notes = 60\n",
    "time_between_notes = 0.2\n",
    "song_notes, time_for_notes = playRandom(num_notes, valid_collection, time_between_notes)"
   ]
  },
  {
   "cell_type": "code",
   "execution_count": null,
   "metadata": {},
   "outputs": [],
   "source": []
  },
  {
   "cell_type": "code",
   "execution_count": 12,
   "metadata": {},
   "outputs": [
    {
     "data": {
      "text/plain": [
       "'C - E - G - B - C - E - G - B - G - B - D - F# - A - C - E - G - B - D - F# - A'"
      ]
     },
     "execution_count": 12,
     "metadata": {},
     "output_type": "execute_result"
    }
   ],
   "source": [
    "# Isha's composition\n",
    "\n",
    "song = ''\n",
    "\n",
    "song += 'C - E - G - B - '\n",
    "song += song\n",
    "\n",
    "song += 'G - B - D - F# - '\n",
    "\n",
    "song += 'A - C - E - G - '\n",
    "\n",
    "song += 'B - D - F# - A'\n",
    "\n",
    "song"
   ]
  },
  {
   "cell_type": "code",
   "execution_count": 13,
   "metadata": {},
   "outputs": [],
   "source": [
    "song_notes = song.split(\" - \")\n",
    "for note_ind in range(len(song_notes)):\n",
    "    song_notes[note_ind] += \"_2\"\n",
    "\n",
    "# song_notes\n"
   ]
  },
  {
   "cell_type": "code",
   "execution_count": 14,
   "metadata": {},
   "outputs": [],
   "source": [
    "tempo_pause = 0.25\n",
    "time_for_note = [tempo_pause for i in song_notes]\n",
    "\n",
    "pauses = [3,7,11,15]\n",
    "for i in pauses:\n",
    "    time_for_note[i] *= 1.5\n",
    "# time_for_note"
   ]
  },
  {
   "cell_type": "code",
   "execution_count": 15,
   "metadata": {},
   "outputs": [],
   "source": [
    "for ind,note in enumerate(song_notes):\n",
    "    audio = note_audio[note]\n",
    "    play_obj = audio.play()\n",
    "    time.sleep(time_for_note[ind])\n"
   ]
  },
  {
   "cell_type": "code",
   "execution_count": 40,
   "metadata": {},
   "outputs": [
    {
     "data": {
      "text/plain": [
       "\" Isha's Addition. \""
      ]
     },
     "execution_count": 40,
     "metadata": {},
     "output_type": "execute_result"
    }
   ],
   "source": [
    "\"\"\" Isha's Addition. \"\"\""
   ]
  },
  {
   "cell_type": "markdown",
   "metadata": {},
   "source": [
    "## Do I Wanna Know?"
   ]
  },
  {
   "cell_type": "code",
   "execution_count": null,
   "metadata": {},
   "outputs": [],
   "source": [
    "notes_dir = './piano_keys/'\n",
    "note_paths = os.listdir(notes_dir)\n",
    "note_audio = {}\n",
    "for note_path in note_paths:\n",
    "    note = note_path.split('.')[0]\n",
    "    note_audio[note] = sa.WaveObject.from_wave_file(notes_dir + note_path)\n",
    "\n",
    "note_audio"
   ]
  },
  {
   "cell_type": "code",
   "execution_count": 31,
   "metadata": {},
   "outputs": [
    {
     "data": {
      "text/plain": [
       "20"
      ]
     },
     "execution_count": 31,
     "metadata": {},
     "output_type": "execute_result"
    }
   ],
   "source": [
    "diwk_isha = 'G_1 - A_1 - C_2 - A_1 - G_1 - A_1 - C_2 - G_2 - F_2 - E_2 - D_2 - C_2 - D_2 - E_2 - D_2 - C_2 - D_2 - E_2 - E_2 - A_1'\n",
    "diwk_notes = diwk_isha.split(\" - \")\n",
    "len(diwk_notes)"
   ]
  },
  {
   "cell_type": "code",
   "execution_count": 36,
   "metadata": {},
   "outputs": [],
   "source": [
    "# let's try....\n",
    "# Do I Wanna Know?\n",
    "# arctic monkeys.\n",
    "\n",
    "tempo_pause = 0.2\n",
    "time_for_note = [tempo_pause for i in diwk_notes]\n",
    "\n",
    "'''\n",
    "# Happy Birthday to you\n",
    "time_for_note[0] /= down_factor\n",
    "time_for_note[1] /= down_factor\n",
    "time_for_note[5] *= up_factor\n",
    "\n",
    "# Happy Birthday to you\n",
    "time_for_note[6] /= down_factor\n",
    "time_for_note[7] /= down_factor\n",
    "time_for_note[11] *= up_factor\n",
    "\n",
    "# Happy Birthday dear...\n",
    "time_for_note[12] /= down_factor\n",
    "time_for_note[13] /= down_factor\n",
    "time_for_note[18] *= up_factor\n",
    "\n",
    "# Happy Birthday to... you...\n",
    "time_for_note[19] /= down_factor\n",
    "time_for_note[20] /= down_factor\n",
    "time_for_note[23] += 0.1\n",
    "time_for_note[24] *= up_factor\n",
    "'''\n",
    "\n",
    "\n",
    "time_for_note[0] = 0.2\n",
    "time_for_note[1] = 0.2\n",
    "time_for_note[2] = 0.4\n",
    "time_for_note[3] = 2.0\n",
    "\n",
    "time_for_note[4] = 0.2\n",
    "time_for_note[5] = 0.2\n",
    "time_for_note[6] = 0.4\n",
    "time_for_note[7] = 0.4\n",
    "time_for_note[8] = 1.2\n",
    "\n",
    "time_for_note[9] = 0.4\n",
    "time_for_note[10] = 1.4\n",
    "\n",
    "time_for_note[11] = 0.2\n",
    "time_for_note[12] = 0.2\n",
    "time_for_note[13] = 0.2\n",
    "time_for_note[14] = 1.6\n",
    "\n",
    "time_for_note[15] = 0.2\n",
    "time_for_note[16] = 0.2\n",
    "time_for_note[17] = 0.4\n",
    "time_for_note[18] = 0.4\n",
    "time_for_note[19] = 2.0\n"
   ]
  },
  {
   "cell_type": "code",
   "execution_count": 38,
   "metadata": {},
   "outputs": [],
   "source": [
    "for ind,note in enumerate(diwk_notes):\n",
    "    audio = note_audio[note]\n",
    "#     audio.bytes_per_sample = 4\n",
    "    play_obj = audio.play()\n",
    "    time.sleep(time_for_note[ind])"
   ]
  },
  {
   "cell_type": "markdown",
   "metadata": {},
   "source": [
    "## Love The Way You Lie."
   ]
  },
  {
   "cell_type": "code",
   "execution_count": 42,
   "metadata": {},
   "outputs": [
    {
     "data": {
      "text/plain": [
       "{'F_1': <simpleaudio.shiny.WaveObject at 0x7fd408327710>,\n",
       " 'D_2': <simpleaudio.shiny.WaveObject at 0x7fd40833d190>,\n",
       " 'F_2': <simpleaudio.shiny.WaveObject at 0x7fd40833d0d0>,\n",
       " 'D_1': <simpleaudio.shiny.WaveObject at 0x7fd40833d090>,\n",
       " 'B_2': <simpleaudio.shiny.WaveObject at 0x7fd3e98e7990>,\n",
       " 'B_1': <simpleaudio.shiny.WaveObject at 0x7fd3e98e7710>,\n",
       " 'G_2': <simpleaudio.shiny.WaveObject at 0x7fd3e98e7750>,\n",
       " 'E_1': <simpleaudio.shiny.WaveObject at 0x7fd3e98e7810>,\n",
       " 'F#_2': <simpleaudio.shiny.WaveObject at 0x7fd3e98e7910>,\n",
       " 'G_1': <simpleaudio.shiny.WaveObject at 0x7fd3e98e7b50>,\n",
       " 'E_2': <simpleaudio.shiny.WaveObject at 0x7fd3e98e7210>,\n",
       " 'F#_1': <simpleaudio.shiny.WaveObject at 0x7fd3e98e7190>,\n",
       " 'A_2': <simpleaudio.shiny.WaveObject at 0x7fd3e98e7450>,\n",
       " 'D#_1': <simpleaudio.shiny.WaveObject at 0x7fd3e98e7310>,\n",
       " 'C_1': <simpleaudio.shiny.WaveObject at 0x7fd3e98e74d0>,\n",
       " 'A_1': <simpleaudio.shiny.WaveObject at 0x7fd40832e610>,\n",
       " 'D#_2': <simpleaudio.shiny.WaveObject at 0x7fd40832e690>,\n",
       " 'C_2': <simpleaudio.shiny.WaveObject at 0x7fd40832e710>,\n",
       " 'A#_2': <simpleaudio.shiny.WaveObject at 0x7fd40832e790>,\n",
       " 'A#_1': <simpleaudio.shiny.WaveObject at 0x7fd408327e50>,\n",
       " 'C#_1': <simpleaudio.shiny.WaveObject at 0x7fd40832e890>,\n",
       " 'C#_2': <simpleaudio.shiny.WaveObject at 0x7fd40832e910>,\n",
       " 'G#_1': <simpleaudio.shiny.WaveObject at 0x7fd40832e990>,\n",
       " 'G#_2': <simpleaudio.shiny.WaveObject at 0x7fd40832ea10>}"
      ]
     },
     "execution_count": 42,
     "metadata": {},
     "output_type": "execute_result"
    }
   ],
   "source": [
    "notes_dir = './piano_keys/'\n",
    "note_paths = os.listdir(notes_dir)\n",
    "note_audio = {}\n",
    "for note_path in note_paths:\n",
    "    note = note_path.split('.')[0]\n",
    "    note_audio[note] = sa.WaveObject.from_wave_file(notes_dir + note_path)\n",
    "\n",
    "note_audio"
   ]
  },
  {
   "cell_type": "code",
   "execution_count": 58,
   "metadata": {},
   "outputs": [
    {
     "data": {
      "text/plain": [
       "49"
      ]
     },
     "execution_count": 58,
     "metadata": {},
     "output_type": "execute_result"
    }
   ],
   "source": [
    "ltwyl_isha_1 = 'D_2 - D_2 - C_2 - A_2 - D_2 - C_2 - A_2 - D_2 - C_2 - A#_1 - A#_1 - A#_1 - A#_1 - A_1 - A_1 - A#_1 - A#_1 - A_1 - A_1 - G_1 - G_1 - '\n",
    "ltwyl_isha_2 = 'D_2 - D_2 - C_2 - A_2 - D_2 - C_2 - A_2 - D_2 - C_2 - A#_1 - A#_1 - A#_1 - A#_1 - A_1 - A_1 - A#_1 - A#_1 - A_1 - A_1 - G_1 - G_1 - C_1 - A#_1 - A_1 - A_1 - F_1 - F_1 - D_1'\n",
    "ltwyl_isha = ltwyl_isha_1 + ltwyl_isha_2\n",
    "ltwyl_notes = ltwyl_isha.split(\" - \")\n",
    "len(ltwyl_notes)"
   ]
  },
  {
   "cell_type": "code",
   "execution_count": 63,
   "metadata": {},
   "outputs": [],
   "source": [
    "# let's try....\n",
    "# Love The Way You Lie.\n",
    "# rihanna.\n",
    "\n",
    "tempo_pause = 0.4\n",
    "time_for_note = [tempo_pause for i in ltwyl_notes]\n",
    "\n",
    "time_for_note[0] = 0.4\n",
    "time_for_note[1] = 0.4\n",
    "time_for_note[2] = 0.4\n",
    "time_for_note[3] = 0.8\n",
    "time_for_note[4] = 0.4\n",
    "time_for_note[5] = 0.4\n",
    "time_for_note[6] = 0.6\n",
    "time_for_note[7] = 0.6\n",
    "time_for_note[8] = 1.8\n",
    "\n",
    "time_for_note[9] = 0.2\n",
    "time_for_note[10] = 0.4\n",
    "time_for_note[11] = 0.8\n",
    "time_for_note[12] = 0.8\n",
    "time_for_note[13] = 0.2\n",
    "time_for_note[14] = 0.6\n",
    "time_for_note[15] = 0.2\n",
    "time_for_note[16] = 0.6\n",
    "time_for_note[17] = 0.2\n",
    "time_for_note[18] = 0.6\n",
    "time_for_note[19] = 0.2\n",
    "time_for_note[20] = 2.2\n",
    "\n",
    "time_for_note[21] = 0.4\n",
    "time_for_note[22] = 0.4\n",
    "time_for_note[23] = 0.4\n",
    "time_for_note[24] = 0.8\n",
    "time_for_note[25] = 0.4\n",
    "time_for_note[26] = 0.4\n",
    "time_for_note[27] = 0.6\n",
    "time_for_note[28] = 0.6\n",
    "time_for_note[29] = 1.8\n",
    "\n",
    "time_for_note[30] = 0.2\n",
    "time_for_note[31] = 0.4\n",
    "time_for_note[32] = 0.8\n",
    "time_for_note[33] = 0.8\n",
    "time_for_note[34] = 0.2\n",
    "time_for_note[35] = 0.6\n",
    "time_for_note[36] = 0.2\n",
    "time_for_note[37] = 0.6\n",
    "time_for_note[38] = 0.2\n",
    "time_for_note[39] = 0.6\n",
    "time_for_note[40] = 0.2\n",
    "time_for_note[41] = 1.6\n",
    "\n",
    "time_for_note[42] = 0.2\n",
    "time_for_note[43] = 0.4\n",
    "time_for_note[44] = 0.2\n",
    "time_for_note[45] = 0.6\n",
    "time_for_note[46] = 0.2\n",
    "time_for_note[46] = 0.4\n",
    "time_for_note[47] = 0.4"
   ]
  },
  {
   "cell_type": "code",
   "execution_count": 65,
   "metadata": {},
   "outputs": [],
   "source": [
    "for ind,note in enumerate(ltwyl_notes):\n",
    "    audio = note_audio[note]\n",
    "#     audio.bytes_per_sample = 4\n",
    "    play_obj = audio.play()\n",
    "    time.sleep(time_for_note[ind])"
   ]
  },
  {
   "cell_type": "markdown",
   "metadata": {},
   "source": [
    "## Experimenting with Chords."
   ]
  },
  {
   "cell_type": "code",
   "execution_count": 67,
   "metadata": {},
   "outputs": [
    {
     "data": {
      "text/plain": [
       "{'F_1': <simpleaudio.shiny.WaveObject at 0x7fd408327210>,\n",
       " 'D_2': <simpleaudio.shiny.WaveObject at 0x7fd40831c250>,\n",
       " 'F_2': <simpleaudio.shiny.WaveObject at 0x7fd408329a10>,\n",
       " 'D_1': <simpleaudio.shiny.WaveObject at 0x7fd408329c10>,\n",
       " 'B_2': <simpleaudio.shiny.WaveObject at 0x7fd408318b90>,\n",
       " 'B_1': <simpleaudio.shiny.WaveObject at 0x7fd408318a90>,\n",
       " 'G_2': <simpleaudio.shiny.WaveObject at 0x7fd408318110>,\n",
       " 'E_1': <simpleaudio.shiny.WaveObject at 0x7fd408318ad0>,\n",
       " 'F#_2': <simpleaudio.shiny.WaveObject at 0x7fd408318c50>,\n",
       " 'G_1': <simpleaudio.shiny.WaveObject at 0x7fd408318f10>,\n",
       " 'E_2': <simpleaudio.shiny.WaveObject at 0x7fd408323c10>,\n",
       " 'F#_1': <simpleaudio.shiny.WaveObject at 0x7fd408323950>,\n",
       " 'A_2': <simpleaudio.shiny.WaveObject at 0x7fd408323c50>,\n",
       " 'D#_1': <simpleaudio.shiny.WaveObject at 0x7fd408323810>,\n",
       " 'C_1': <simpleaudio.shiny.WaveObject at 0x7fd408323110>,\n",
       " 'A_1': <simpleaudio.shiny.WaveObject at 0x7fd408323510>,\n",
       " 'D#_2': <simpleaudio.shiny.WaveObject at 0x7fd408323210>,\n",
       " 'C_2': <simpleaudio.shiny.WaveObject at 0x7fd4083237d0>,\n",
       " 'A#_2': <simpleaudio.shiny.WaveObject at 0x7fd408323310>,\n",
       " 'A#_1': <simpleaudio.shiny.WaveObject at 0x7fd408323dd0>,\n",
       " 'C#_1': <simpleaudio.shiny.WaveObject at 0x7fd4083231d0>,\n",
       " 'C#_2': <simpleaudio.shiny.WaveObject at 0x7fd408323f50>,\n",
       " 'G#_1': <simpleaudio.shiny.WaveObject at 0x7fd408334cd0>,\n",
       " 'G#_2': <simpleaudio.shiny.WaveObject at 0x7fd4083236d0>}"
      ]
     },
     "execution_count": 67,
     "metadata": {},
     "output_type": "execute_result"
    }
   ],
   "source": [
    "notes_dir = './piano_keys/'\n",
    "note_paths = os.listdir(notes_dir)\n",
    "note_audio = {}\n",
    "for note_path in note_paths:\n",
    "    note = note_path.split('.')[0]\n",
    "    note_audio[note] = sa.WaveObject.from_wave_file(notes_dir + note_path)\n",
    "\n",
    "note_audio"
   ]
  },
  {
   "cell_type": "code",
   "execution_count": 71,
   "metadata": {},
   "outputs": [
    {
     "data": {
      "text/plain": [
       "35"
      ]
     },
     "execution_count": 71,
     "metadata": {},
     "output_type": "execute_result"
    }
   ],
   "source": [
    "# I Don't Wanna Be You Anymore.\n",
    "# Billie!!\n",
    "\n",
    "cmaj_isha = 'C_1 - C_2 - E_2 - G_2 - B_2 - E_2 - E_2 - B_2 - A_2 - G_2 - '\n",
    "gmaj_isha_1 = 'G_1 - B_1 - D_2 - F#_2 - G_1 - G_1 - F#_2 - G_2 - F#_2 - '\n",
    "amin_isha = 'G_1 - A_1 - C_2 - E_2 - A_1 - A_1 - A_1 - E_2 - F#_2 - '\n",
    "gmaj_isha_2 = 'F#_1 - G_1 - B_1 - D_2 - G_1 - G_1 - G_1'\n",
    "idwbya_isha = cmaj_isha + gmaj_isha_1 + amin_isha + gmaj_isha_2\n",
    "idwbya_notes = idwbya_isha.split(\" - \")\n",
    "len(idwbya_notes)"
   ]
  },
  {
   "cell_type": "code",
   "execution_count": 90,
   "metadata": {},
   "outputs": [],
   "source": [
    "tempo_pause = 0.4\n",
    "time_for_note = [tempo_pause for i in idwbya_notes]\n",
    "\n",
    "\n",
    "time_for_note[0] = 0.1\n",
    "time_for_note[1] = 0.05\n",
    "time_for_note[2] = 0.05\n",
    "time_for_note[3] = 0.05\n",
    "time_for_note[4] = 1.2\n",
    "time_for_note[5] = 1.2\n",
    "time_for_note[6] = 1.2\n",
    "time_for_note[7] = 0.4\n",
    "time_for_note[8] = 0.4\n",
    "time_for_note[9] = 0.4\n",
    "\n",
    "time_for_note[10] = 0.1\n",
    "time_for_note[11] = 0.05\n",
    "time_for_note[12] = 0.05\n",
    "time_for_note[13] = 1.2\n",
    "time_for_note[14] = 1.2\n",
    "time_for_note[15] = 1.2\n",
    "time_for_note[16] = 0.4\n",
    "time_for_note[17] = 0.4\n",
    "time_for_note[18] = 0.4\n",
    "\n",
    "time_for_note[19] = 0.1\n",
    "time_for_note[20] = 0.05\n",
    "time_for_note[21] = 0.05\n",
    "time_for_note[22] = 1.2\n",
    "time_for_note[23] = 1.2\n",
    "time_for_note[24] = 1.2\n",
    "time_for_note[25] = 0.4\n",
    "time_for_note[26] = 0.4\n",
    "time_for_note[27] = 0.4\n",
    "\n",
    "time_for_note[28] = 0.1\n",
    "time_for_note[29] = 0.05\n",
    "time_for_note[30] = 0.05\n",
    "time_for_note[31] = 1.2\n",
    "time_for_note[32] = 1.2\n",
    "time_for_note[33] = 1.2\n",
    "time_for_note[34] = 1.2\n",
    "for i in range(len(idwbya_notes)):\n",
    "    time_for_note[i] *= 1.1"
   ]
  },
  {
   "cell_type": "code",
   "execution_count": 91,
   "metadata": {},
   "outputs": [],
   "source": [
    "for ind,note in enumerate(idwbya_notes):\n",
    "    audio = note_audio[note]\n",
    "#     audio.bytes_per_sample = 4\n",
    "    play_obj = audio.play()\n",
    "    time.sleep(time_for_note[ind])"
   ]
  },
  {
   "cell_type": "markdown",
   "metadata": {},
   "source": [
    "Note to Ansh: hi cucumber roll. this is forever the coolest thing ever. You nerdiest nerd. Made my nite <3 "
   ]
  },
  {
   "cell_type": "code",
   "execution_count": null,
   "metadata": {},
   "outputs": [],
   "source": []
  }
 ],
 "metadata": {
  "kernelspec": {
   "display_name": "Python 3",
   "language": "python",
   "name": "python3"
  },
  "language_info": {
   "codemirror_mode": {
    "name": "ipython",
    "version": 3
   },
   "file_extension": ".py",
   "mimetype": "text/x-python",
   "name": "python",
   "nbconvert_exporter": "python",
   "pygments_lexer": "ipython3",
   "version": "3.7.6"
  }
 },
 "nbformat": 4,
 "nbformat_minor": 5
}
