{
 "cells": [
  {
   "cell_type": "code",
   "execution_count": 127,
   "id": "34c28c7a",
   "metadata": {},
   "outputs": [],
   "source": [
    "import simpleaudio as sa\n",
    "import wave\n",
    "import time\n",
    "\n",
    "from os import path\n",
    "from pydub import AudioSegment\n",
    "\n",
    "import os\n",
    "\n",
    "import numpy as np"
   ]
  },
  {
   "cell_type": "code",
   "execution_count": 8,
   "id": "02f0da0d",
   "metadata": {},
   "outputs": [
    {
     "data": {
      "text/plain": [
       "<_io.BufferedRandom name='./hbd.wav'>"
      ]
     },
     "execution_count": 8,
     "metadata": {},
     "output_type": "execute_result"
    }
   ],
   "source": [
    "# files                                                                         \n",
    "src = \"./hbd.mp3\"\n",
    "dst = \"./hbd.wav\"\n",
    "\n",
    "# convert wav to mp3                                                            \n",
    "sound = AudioSegment.from_mp3(src)\n",
    "sound.export(dst, format=\"wav\")"
   ]
  },
  {
   "cell_type": "code",
   "execution_count": 59,
   "id": "6a93e69f",
   "metadata": {},
   "outputs": [],
   "source": [
    "filename = './hbd.wav'\n",
    "wave_obj = sa.WaveObject.from_wave_file(filename)\n",
    "play_obj = wave_obj.play()\n",
    "play_obj.wait_done()"
   ]
  },
  {
   "cell_type": "code",
   "execution_count": 10,
   "id": "ef0d2ea6",
   "metadata": {},
   "outputs": [],
   "source": [
    "filename = './notes_audios/piano-c_C_major.wav'\n",
    "wave_obj = sa.WaveObject.from_wave_file(filename)\n",
    "play_obj = wave_obj.play()\n",
    "play_obj.wait_done()"
   ]
  },
  {
   "cell_type": "code",
   "execution_count": 11,
   "id": "30d8398f",
   "metadata": {},
   "outputs": [
    {
     "data": {
      "text/plain": [
       "['piano-e_E_major.wav',\n",
       " 'piano-a_A_major.wav',\n",
       " 'piano-g_G#_major.wav',\n",
       " 'piano-g_G_major.wav',\n",
       " 'piano-c_C#_major.wav',\n",
       " 'piano-c_C_major.wav',\n",
       " 'piano-b_B_major.wav',\n",
       " 'piano-f_F#_major.wav',\n",
       " 'piano-f_F_major.wav',\n",
       " 'piano-eb_D#_major.wav',\n",
       " 'piano-d_D_major.wav',\n",
       " 'piano-bb_A#_major.wav']"
      ]
     },
     "execution_count": 11,
     "metadata": {},
     "output_type": "execute_result"
    }
   ],
   "source": [
    "note_paths = os.listdir('./notes_audios/')\n",
    "note_paths"
   ]
  },
  {
   "cell_type": "code",
   "execution_count": 12,
   "id": "4e1725d6",
   "metadata": {},
   "outputs": [
    {
     "data": {
      "text/plain": [
       "{'E': <simpleaudio.shiny.WaveObject at 0x120062aa0>,\n",
       " 'A': <simpleaudio.shiny.WaveObject at 0x106b7d150>,\n",
       " 'G#': <simpleaudio.shiny.WaveObject at 0x106cac2e0>,\n",
       " 'G': <simpleaudio.shiny.WaveObject at 0x124e32920>,\n",
       " 'C#': <simpleaudio.shiny.WaveObject at 0x124e32470>,\n",
       " 'C': <simpleaudio.shiny.WaveObject at 0x124e32ef0>,\n",
       " 'B': <simpleaudio.shiny.WaveObject at 0x124e32d10>,\n",
       " 'F#': <simpleaudio.shiny.WaveObject at 0x124e32b60>,\n",
       " 'F': <simpleaudio.shiny.WaveObject at 0x124e330a0>,\n",
       " 'D#': <simpleaudio.shiny.WaveObject at 0x124e31f90>,\n",
       " 'D': <simpleaudio.shiny.WaveObject at 0x124e33010>,\n",
       " 'A#': <simpleaudio.shiny.WaveObject at 0x124e33790>}"
      ]
     },
     "execution_count": 12,
     "metadata": {},
     "output_type": "execute_result"
    }
   ],
   "source": [
    "note_audio = {}\n",
    "for note_path in note_paths:\n",
    "    note = note_path.split('_')[1]\n",
    "    note_audio[note] = sa.WaveObject.from_wave_file(\"./notes_audios/\" + note_path)\n",
    "\n",
    "note_audio"
   ]
  },
  {
   "cell_type": "code",
   "execution_count": 37,
   "id": "f8cdb899",
   "metadata": {},
   "outputs": [],
   "source": [
    "# Original\n",
    "# hbd_song = 'G – A – G – C – B – G – G – A – G – D – C – G – G – G – E – C – C – B – A – F – F – E – C – D – C'\n",
    "\n",
    "# Experiment\n",
    "hbd_song = 'G – G – G – C – B – G – G – G – G – D – C – G – G – G – E – C – C – B – A – F – F – E – C – D – C'\n",
    "\n",
    "song_notes = hbd_song.split(\" – \")"
   ]
  },
  {
   "cell_type": "code",
   "execution_count": 38,
   "id": "630514d6",
   "metadata": {},
   "outputs": [
    {
     "data": {
      "text/plain": [
       "25"
      ]
     },
     "execution_count": 38,
     "metadata": {},
     "output_type": "execute_result"
    }
   ],
   "source": [
    "len(song_notes)"
   ]
  },
  {
   "cell_type": "code",
   "execution_count": 45,
   "id": "962be7f9",
   "metadata": {},
   "outputs": [],
   "source": [
    "time_for_note = [0.8 for i in song_notes]\n",
    "\n",
    "down_factor = 2\n",
    "up_factor = 2\n",
    "\n",
    "# Happy Birthday to you\n",
    "time_for_note[0] /= down_factor\n",
    "time_for_note[1] /= down_factor\n",
    "time_for_note[5] *= up_factor\n",
    "\n",
    "# Happy Birthday to you\n",
    "time_for_note[6] /= down_factor\n",
    "time_for_note[7] /= down_factor\n",
    "time_for_note[11] *= up_factor\n",
    "\n",
    "# Happy Birthday dear...\n",
    "time_for_note[12] /= down_factor\n",
    "time_for_note[13] /= down_factor\n",
    "time_for_note[18] *= up_factor\n",
    "\n",
    "# Happy Birthday to... you...\n",
    "time_for_note[19] /= down_factor\n",
    "time_for_note[20] /= down_factor\n",
    "time_for_note[23] *= up_factor-1\n",
    "time_for_note[24] *= up_factor"
   ]
  },
  {
   "cell_type": "code",
   "execution_count": 44,
   "id": "28ab2692",
   "metadata": {},
   "outputs": [],
   "source": [
    "for ind,note in enumerate(song_notes):\n",
    "    audio = note_audio[note]\n",
    "#     audio.bytes_per_sample = 4\n",
    "    play_obj = audio.play()\n",
    "    time.sleep(time_for_note[ind])\n",
    "#     play_obj.wait_done()"
   ]
  },
  {
   "cell_type": "code",
   "execution_count": 50,
   "id": "422e895e",
   "metadata": {},
   "outputs": [
    {
     "data": {
      "text/plain": [
       "['key01.mp3',\n",
       " 'key02.mp3',\n",
       " 'key03.mp3',\n",
       " 'key04.mp3',\n",
       " 'key05.mp3',\n",
       " 'key06.mp3',\n",
       " 'key07.mp3',\n",
       " 'key08.mp3',\n",
       " 'key09.mp3',\n",
       " 'key10.mp3',\n",
       " 'key11.mp3',\n",
       " 'key12.mp3',\n",
       " 'key13.mp3',\n",
       " 'key14.mp3',\n",
       " 'key15.mp3',\n",
       " 'key16.mp3',\n",
       " 'key17.mp3',\n",
       " 'key18.mp3',\n",
       " 'key19.mp3',\n",
       " 'key20.mp3',\n",
       " 'key21.mp3',\n",
       " 'key22.mp3',\n",
       " 'key23.mp3',\n",
       " 'key24.mp3']"
      ]
     },
     "execution_count": 50,
     "metadata": {},
     "output_type": "execute_result"
    }
   ],
   "source": [
    "sorted(os.listdir(\"./24-piano-keys/\"))"
   ]
  },
  {
   "cell_type": "code",
   "execution_count": 56,
   "id": "de7917da",
   "metadata": {},
   "outputs": [],
   "source": [
    "read_dir = \"./24-piano-keys/\"\n",
    "save_dir = \"./piano_keys/\"\n",
    "\n",
    "notes = sorted(list(note_audio.keys()))\n",
    "notes = notes[3:] + notes[:3]\n",
    "note_list = ['' for i in range(24)]\n",
    "for note_ind in range(12):\n",
    "    note_list[note_ind] = notes[note_ind] + \"_1\"\n",
    "    note_list[note_ind + 12] = notes[note_ind] + \"_2\"\n",
    "\n",
    "notes = note_list\n",
    "\n",
    "if \"piano_keys\" not in os.listdir():\n",
    "    os.mkdir(save_dir)\n",
    "\n",
    "for ind, file_name in enumerate(sorted(os.listdir(read_dir))):\n",
    "    src = read_dir + file_name\n",
    "    dst = save_dir + notes[ind] + \".wav\"\n",
    "\n",
    "    sound = AudioSegment.from_mp3(src)\n",
    "    sound.export(dst, format=\"wav\")"
   ]
  },
  {
   "cell_type": "code",
   "execution_count": 57,
   "id": "1a0681d1",
   "metadata": {},
   "outputs": [
    {
     "data": {
      "text/plain": [
       "['F_1.wav',\n",
       " 'D_2.wav',\n",
       " 'F_2.wav',\n",
       " 'D_1.wav',\n",
       " 'B_2.wav',\n",
       " 'B_1.wav',\n",
       " 'G_2.wav',\n",
       " 'E_1.wav',\n",
       " 'F#_2.wav',\n",
       " 'G_1.wav',\n",
       " 'E_2.wav',\n",
       " 'F#_1.wav',\n",
       " 'A_2.wav',\n",
       " 'D#_1.wav',\n",
       " 'C_1.wav',\n",
       " 'A_1.wav',\n",
       " 'D#_2.wav',\n",
       " 'C_2.wav',\n",
       " 'A#_2.wav',\n",
       " 'A#_1.wav',\n",
       " 'C#_1.wav',\n",
       " 'C#_2.wav',\n",
       " 'G#_1.wav',\n",
       " 'G#_2.wav']"
      ]
     },
     "execution_count": 57,
     "metadata": {},
     "output_type": "execute_result"
    }
   ],
   "source": [
    "os.listdir(save_dir)"
   ]
  },
  {
   "cell_type": "code",
   "execution_count": 58,
   "id": "1dba6a2e",
   "metadata": {},
   "outputs": [
    {
     "data": {
      "text/plain": [
       "{'F_1': <simpleaudio.shiny.WaveObject at 0x1255efb20>,\n",
       " 'D_2': <simpleaudio.shiny.WaveObject at 0x1258442e0>,\n",
       " 'F_2': <simpleaudio.shiny.WaveObject at 0x1258472b0>,\n",
       " 'D_1': <simpleaudio.shiny.WaveObject at 0x125844070>,\n",
       " 'B_2': <simpleaudio.shiny.WaveObject at 0x1258440d0>,\n",
       " 'B_1': <simpleaudio.shiny.WaveObject at 0x1258440a0>,\n",
       " 'G_2': <simpleaudio.shiny.WaveObject at 0x125847220>,\n",
       " 'E_1': <simpleaudio.shiny.WaveObject at 0x125847250>,\n",
       " 'F#_2': <simpleaudio.shiny.WaveObject at 0x125844370>,\n",
       " 'G_1': <simpleaudio.shiny.WaveObject at 0x1258448b0>,\n",
       " 'E_2': <simpleaudio.shiny.WaveObject at 0x125844940>,\n",
       " 'F#_1': <simpleaudio.shiny.WaveObject at 0x125844520>,\n",
       " 'A_2': <simpleaudio.shiny.WaveObject at 0x1258454e0>,\n",
       " 'D#_1': <simpleaudio.shiny.WaveObject at 0x125845630>,\n",
       " 'C_1': <simpleaudio.shiny.WaveObject at 0x125844730>,\n",
       " 'A_1': <simpleaudio.shiny.WaveObject at 0x1258445e0>,\n",
       " 'D#_2': <simpleaudio.shiny.WaveObject at 0x125844580>,\n",
       " 'C_2': <simpleaudio.shiny.WaveObject at 0x125844490>,\n",
       " 'A#_2': <simpleaudio.shiny.WaveObject at 0x125844430>,\n",
       " 'A#_1': <simpleaudio.shiny.WaveObject at 0x1258443d0>,\n",
       " 'C#_1': <simpleaudio.shiny.WaveObject at 0x125844280>,\n",
       " 'C#_2': <simpleaudio.shiny.WaveObject at 0x125845480>,\n",
       " 'G#_1': <simpleaudio.shiny.WaveObject at 0x1258453f0>,\n",
       " 'G#_2': <simpleaudio.shiny.WaveObject at 0x125845cc0>}"
      ]
     },
     "execution_count": 58,
     "metadata": {},
     "output_type": "execute_result"
    }
   ],
   "source": [
    "note_paths = os.listdir(save_dir)\n",
    "# note_paths\n",
    "note_audio = {}\n",
    "for note_path in note_paths:\n",
    "    note = note_path.split('.')[0]\n",
    "    note_audio[note] = sa.WaveObject.from_wave_file(save_dir + note_path)\n",
    "\n",
    "note_audio"
   ]
  },
  {
   "cell_type": "code",
   "execution_count": 61,
   "id": "21a46f7f",
   "metadata": {},
   "outputs": [
    {
     "data": {
      "text/plain": [
       "['G_1',\n",
       " 'G_1',\n",
       " 'G_1',\n",
       " 'C_1',\n",
       " 'B_1',\n",
       " 'G_2',\n",
       " 'G_1',\n",
       " 'G_1',\n",
       " 'G_1',\n",
       " 'D_1',\n",
       " 'C_1',\n",
       " 'G_2',\n",
       " 'G_1',\n",
       " 'G_1',\n",
       " 'E_1',\n",
       " 'C_1',\n",
       " 'C_1',\n",
       " 'B_1',\n",
       " 'A_2',\n",
       " 'F_1',\n",
       " 'F_1',\n",
       " 'E_1',\n",
       " 'C_1',\n",
       " 'D_2',\n",
       " 'C_2']"
      ]
     },
     "execution_count": 61,
     "metadata": {},
     "output_type": "execute_result"
    }
   ],
   "source": [
    "hbd_song = 'G – G – G – C – B – G – G – G – G – D – C – G – G – G – E – C – C – B – A – F – F – E – C – D – C'\n",
    "\n",
    "song_notes = hbd_song.split(\" – \")\n",
    "for note_ind in range(len(song_notes)):\n",
    "    song_notes[note_ind] += \"_1\"\n",
    "\n",
    "higher = [5,11,18,23,24]\n",
    "for ind in higher:\n",
    "    song_notes[ind] = song_notes[ind][:-1] + '2'\n",
    "\n",
    "song_notes"
   ]
  },
  {
   "cell_type": "code",
   "execution_count": 173,
   "id": "66fb09af",
   "metadata": {},
   "outputs": [
    {
     "data": {
      "text/plain": [
       "25"
      ]
     },
     "execution_count": 173,
     "metadata": {},
     "output_type": "execute_result"
    }
   ],
   "source": [
    "hbd_isha = 'C_1 - C_1 - D_1 - C_1 - F_1 - E_2 - C_1 - C_1 - D_1 - C_1 - G_2 - F_2 - C_1 - C_1 - C_2 - A_2 - F_2 - E_1 - D_1 - A#_1 - A#_1 - A_1 - F_1 - G_1 - F_1'\n",
    "song_notes = hbd_isha.split(\" - \")\n",
    "len(song_notes)"
   ]
  },
  {
   "cell_type": "code",
   "execution_count": 174,
   "id": "c64e49b4",
   "metadata": {},
   "outputs": [],
   "source": [
    "tempo_pause = 0.6\n",
    "time_for_note = [tempo_pause for i in song_notes]\n",
    "\n",
    "down_factor = 2\n",
    "up_factor = 3\n",
    "\n",
    "# Happy Birthday to you\n",
    "time_for_note[0] /= down_factor\n",
    "time_for_note[1] /= down_factor\n",
    "time_for_note[5] *= up_factor\n",
    "\n",
    "# Happy Birthday to you\n",
    "time_for_note[6] /= down_factor\n",
    "time_for_note[7] /= down_factor\n",
    "time_for_note[11] *= up_factor\n",
    "\n",
    "# Happy Birthday dear...\n",
    "time_for_note[12] /= down_factor\n",
    "time_for_note[13] /= down_factor\n",
    "time_for_note[18] *= up_factor\n",
    "\n",
    "# Happy Birthday to... you...\n",
    "time_for_note[19] /= down_factor\n",
    "time_for_note[20] /= down_factor\n",
    "time_for_note[23] += 0.1\n",
    "time_for_note[24] *= up_factor"
   ]
  },
  {
   "cell_type": "code",
   "execution_count": 175,
   "id": "e5acbf67",
   "metadata": {},
   "outputs": [],
   "source": [
    "# Adjustments\n",
    "time_for_note[0] += 0.1 # 0.3 -> 0.4\n",
    "time_for_note[1] -= 0.1 # 0.3 -> 0.2\n",
    "\n",
    "time_for_note[6] += 0.1 # 0.3 -> 0.4\n",
    "time_for_note[7] -= 0.1 # 0.3 -> 0.2\n",
    "\n",
    "time_for_note[12] += 0.1 # 0.3 -> 0.4\n",
    "time_for_note[13] -= 0.1 # 0.3 -> 0.2\n",
    "\n",
    "time_for_note[19] += 0.1 # 0.3 -> 0.4\n",
    "time_for_note[20] -= 0.1 # 0.3 -> 0.2"
   ]
  },
  {
   "cell_type": "code",
   "execution_count": 176,
   "id": "5ab71345",
   "metadata": {},
   "outputs": [],
   "source": [
    "for ind,note in enumerate(song_notes):\n",
    "    audio = note_audio[note]\n",
    "#     audio.bytes_per_sample = 4\n",
    "    play_obj = audio.play()\n",
    "    time.sleep(time_for_note[ind])\n",
    "#     play_obj.wait_done()"
   ]
  },
  {
   "cell_type": "code",
   "execution_count": 124,
   "id": "b8d72e63",
   "metadata": {},
   "outputs": [
    {
     "data": {
      "text/plain": [
       "['F_1',\n",
       " 'D_2',\n",
       " 'F_2',\n",
       " 'D_1',\n",
       " 'B_2',\n",
       " 'B_1',\n",
       " 'G_2',\n",
       " 'E_1',\n",
       " 'F#_2',\n",
       " 'G_1',\n",
       " 'E_2',\n",
       " 'F#_1',\n",
       " 'A_2',\n",
       " 'D#_1',\n",
       " 'C_1',\n",
       " 'A_1',\n",
       " 'D#_2',\n",
       " 'C_2',\n",
       " 'A#_2',\n",
       " 'A#_1',\n",
       " 'C#_1',\n",
       " 'C#_2',\n",
       " 'G#_1',\n",
       " 'G#_2']"
      ]
     },
     "execution_count": 124,
     "metadata": {},
     "output_type": "execute_result"
    }
   ],
   "source": [
    "all_notes = list(note_audio.keys())\n",
    "all_notes"
   ]
  },
  {
   "cell_type": "code",
   "execution_count": 149,
   "id": "f4457b79",
   "metadata": {},
   "outputs": [],
   "source": [
    "def playRandom(num_notes, valid_collection, time_for_note = False):\n",
    "    song_notes = np.random.choice(valid_collection, num_notes)\n",
    "    \n",
    "    # Time for notes controls tempo and pauses -> rhythm\n",
    "    if not time_for_note:\n",
    "        time_for_note = [0.4 for i in song_notes]\n",
    "    elif type(time_for_note) != list:\n",
    "        time_for_note = [time_for_note for i in song_notes]\n",
    "    \n",
    "    # Playing the notes\n",
    "    for ind,note in enumerate(song_notes):\n",
    "        audio = note_audio[note]\n",
    "        play_obj = audio.play()\n",
    "        time.sleep(time_for_note[ind])\n",
    "    return song_notes, time_for_note"
   ]
  },
  {
   "cell_type": "code",
   "execution_count": 141,
   "id": "f837b7c1",
   "metadata": {},
   "outputs": [],
   "source": [
    "valid_collection = []\n",
    "for note in all_notes:\n",
    "    # C major scale\n",
    "    if '#' not in note:\n",
    "        valid_collection.append(note)"
   ]
  },
  {
   "cell_type": "code",
   "execution_count": 142,
   "id": "622c3c21",
   "metadata": {},
   "outputs": [
    {
     "data": {
      "text/plain": [
       "['A_1',\n",
       " 'A_2',\n",
       " 'B_1',\n",
       " 'B_2',\n",
       " 'C_1',\n",
       " 'C_2',\n",
       " 'D_1',\n",
       " 'D_2',\n",
       " 'E_1',\n",
       " 'E_2',\n",
       " 'F_1',\n",
       " 'F_2',\n",
       " 'G_1',\n",
       " 'G_2']"
      ]
     },
     "execution_count": 142,
     "metadata": {},
     "output_type": "execute_result"
    }
   ],
   "source": [
    "sorted(valid_collection)"
   ]
  },
  {
   "cell_type": "code",
   "execution_count": 172,
   "id": "b8d08bb5",
   "metadata": {},
   "outputs": [],
   "source": [
    "song_notes, time_for_notes = playRandom(60, valid_collection, 0.2)"
   ]
  },
  {
   "cell_type": "code",
   "execution_count": null,
   "id": "27eff663",
   "metadata": {},
   "outputs": [],
   "source": []
  },
  {
   "cell_type": "code",
   "execution_count": null,
   "id": "2a62b9a4",
   "metadata": {},
   "outputs": [],
   "source": []
  },
  {
   "cell_type": "code",
   "execution_count": null,
   "id": "09855476",
   "metadata": {},
   "outputs": [],
   "source": []
  },
  {
   "cell_type": "code",
   "execution_count": 179,
   "id": "a27cb770",
   "metadata": {},
   "outputs": [
    {
     "data": {
      "text/plain": [
       "'C - E - G - B - C - E - G - B - G - B - D - F# - A - C - E - G - B - D - F# - A'"
      ]
     },
     "execution_count": 179,
     "metadata": {},
     "output_type": "execute_result"
    }
   ],
   "source": [
    "# Isha's composition\n",
    "\n",
    "song = ''\n",
    "\n",
    "song += 'C - E - G - B - '\n",
    "song += song\n",
    "\n",
    "song += 'G - B - D - F# - '\n",
    "\n",
    "song += 'A - C - E - G - '\n",
    "\n",
    "song += 'B - D - F# - A'\n",
    "\n",
    "song"
   ]
  },
  {
   "cell_type": "code",
   "execution_count": 180,
   "id": "77724380",
   "metadata": {},
   "outputs": [
    {
     "data": {
      "text/plain": [
       "['C_2',\n",
       " 'E_2',\n",
       " 'G_2',\n",
       " 'B_2',\n",
       " 'C_2',\n",
       " 'E_2',\n",
       " 'G_2',\n",
       " 'B_2',\n",
       " 'G_2',\n",
       " 'B_2',\n",
       " 'D_2',\n",
       " 'F#_2',\n",
       " 'A_2',\n",
       " 'C_2',\n",
       " 'E_2',\n",
       " 'G_2',\n",
       " 'B_2',\n",
       " 'D_2',\n",
       " 'F#_2',\n",
       " 'A_2']"
      ]
     },
     "execution_count": 180,
     "metadata": {},
     "output_type": "execute_result"
    }
   ],
   "source": [
    "song_notes = song.split(\" - \")\n",
    "for note_ind in range(len(song_notes)):\n",
    "    song_notes[note_ind] += \"_2\"\n",
    "\n",
    "song_notes"
   ]
  },
  {
   "cell_type": "code",
   "execution_count": 181,
   "id": "a625d142",
   "metadata": {},
   "outputs": [
    {
     "data": {
      "text/plain": [
       "20"
      ]
     },
     "execution_count": 181,
     "metadata": {},
     "output_type": "execute_result"
    }
   ],
   "source": [
    "len(song_notes)"
   ]
  },
  {
   "cell_type": "code",
   "execution_count": 182,
   "id": "a086d1de",
   "metadata": {},
   "outputs": [],
   "source": [
    "song_notes[8] = song_notes[8][:-1] + '1'\n",
    "song_notes[9] = song_notes[9][:-1] + '1'\n",
    "song_notes[12] = song_notes[12][:-1] + '1'\n",
    "song_notes[16] = song_notes[16][:-1] + '1'"
   ]
  },
  {
   "cell_type": "code",
   "execution_count": 183,
   "id": "2f757d9e",
   "metadata": {},
   "outputs": [
    {
     "data": {
      "text/plain": [
       "[0.25,\n",
       " 0.25,\n",
       " 0.25,\n",
       " 0.375,\n",
       " 0.25,\n",
       " 0.25,\n",
       " 0.25,\n",
       " 0.375,\n",
       " 0.25,\n",
       " 0.25,\n",
       " 0.25,\n",
       " 0.375,\n",
       " 0.25,\n",
       " 0.25,\n",
       " 0.25,\n",
       " 0.375,\n",
       " 0.25,\n",
       " 0.25,\n",
       " 0.25,\n",
       " 0.25]"
      ]
     },
     "execution_count": 183,
     "metadata": {},
     "output_type": "execute_result"
    }
   ],
   "source": [
    "tempo_pause = 0.25\n",
    "time_for_note = [tempo_pause for i in song_notes]\n",
    "\n",
    "pauses = [3,7,11,15]\n",
    "for i in pauses:\n",
    "    time_for_note[i] *= 1.5\n",
    "time_for_note"
   ]
  },
  {
   "cell_type": "code",
   "execution_count": 185,
   "id": "8efa986d",
   "metadata": {},
   "outputs": [],
   "source": [
    "for ind,note in enumerate(song_notes):\n",
    "    audio = note_audio[note]\n",
    "#     audio.bytes_per_sample = 4\n",
    "    play_obj = audio.play()\n",
    "    time.sleep(time_for_note[ind])\n",
    "#     play_obj.wait_done()"
   ]
  },
  {
   "cell_type": "code",
   "execution_count": null,
   "id": "8c3d0565",
   "metadata": {},
   "outputs": [],
   "source": []
  }
 ],
 "metadata": {
  "kernelspec": {
   "display_name": "Python 3 (ipykernel)",
   "language": "python",
   "name": "python3"
  },
  "language_info": {
   "codemirror_mode": {
    "name": "ipython",
    "version": 3
   },
   "file_extension": ".py",
   "mimetype": "text/x-python",
   "name": "python",
   "nbconvert_exporter": "python",
   "pygments_lexer": "ipython3",
   "version": "3.10.7"
  }
 },
 "nbformat": 4,
 "nbformat_minor": 5
}
